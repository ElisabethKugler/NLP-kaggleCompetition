{
 "cells": [
  {
   "cell_type": "markdown",
   "metadata": {},
   "source": [
    "# Natural Language Processing Prediction with Disaster Tweets\n",
    "\n",
    "Authors: Ecem Aydin, Nicholas Owen, and Elisabeth Kugler\n",
    "\n",
    "https://www.kaggle.com/competitions/nlp-getting-started/overview/description"
   ]
  },
  {
   "cell_type": "code",
   "execution_count": null,
   "metadata": {},
   "outputs": [],
   "source": [
    "import pandas as pd"
   ]
  }
 ],
 "metadata": {
  "kernelspec": {
   "display_name": "Python 3.9.12 ('base')",
   "language": "python",
   "name": "python3"
  },
  "language_info": {
   "name": "python",
   "version": "3.9.12"
  },
  "orig_nbformat": 4,
  "vscode": {
   "interpreter": {
    "hash": "4683a0ea085103193c7fe6341e5f4cbe469f2193128e8a9962316fa64754f1b3"
   }
  }
 },
 "nbformat": 4,
 "nbformat_minor": 2
}
